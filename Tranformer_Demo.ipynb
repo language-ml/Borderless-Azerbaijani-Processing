{
  "cells": [
    {
      "cell_type": "code",
      "execution_count": 24,
      "metadata": {
        "id": "6FtuJOHFQsCo"
      },
      "outputs": [],
      "source": [
        "from torchtext.data.utils import get_tokenizer\n",
        "from torchtext.vocab import build_vocab_from_iterator\n",
        "from typing import Iterable, List\n",
        "import torch\n",
        "\n",
        "SRC_LANGUAGE = 'arabic' # persian / south azerbaijani that uses arabic script\n",
        "TGT_LANGUAGE = 'latin'\n",
        "\n",
        "# Place-holders\n",
        "token_transform = {}\n",
        "vocab_transform = {}\n",
        "\n",
        "funky = lambda x : list(x.strip().lower())\n",
        "token_transform[SRC_LANGUAGE] = funky\n",
        "token_transform[TGT_LANGUAGE] = funky\n",
        "UNK_IDX, PAD_IDX, BOS_IDX, EOS_IDX = 0, 1, 2, 3\n",
        "special_symbols = ['<unk>', '<pad>', '<bos>', '<eos>']\n"
      ]
    },
    {
      "cell_type": "code",
      "execution_count": 14,
      "metadata": {
        "id": "jQCxifj4FVMk"
      },
      "outputs": [],
      "source": [
        "vocab_transform[TGT_LANGUAGE] = torch.load('vocab_'+TGT_LANGUAGE+'.pth')\n",
        "vocab_transform[SRC_LANGUAGE] = torch.load('vocab_'+SRC_LANGUAGE+'.pth')\n"
      ]
    },
    {
      "cell_type": "code",
      "execution_count": 15,
      "metadata": {
        "id": "vYlFAeBV-okt"
      },
      "outputs": [],
      "source": [
        "from torch import Tensor\n",
        "import torch\n",
        "import torch.nn as nn\n",
        "from torch.nn import Transformer\n",
        "import math\n",
        "DEVICE = torch.device('cuda' if torch.cuda.is_available() else 'cpu')\n",
        "\n",
        "class PositionalEncoding(nn.Module):\n",
        "    def __init__(self,\n",
        "                 emb_size: int,\n",
        "                 dropout: float,\n",
        "                 maxlen: int = 200):\n",
        "        super(PositionalEncoding, self).__init__()\n",
        "        den = torch.exp(- torch.arange(0, emb_size, 2)* math.log(10000) / emb_size)\n",
        "        pos = torch.arange(0, maxlen).reshape(maxlen, 1)\n",
        "        pos_embedding = torch.zeros((maxlen, emb_size))\n",
        "        pos_embedding[:, 0::2] = torch.sin(pos * den)\n",
        "        pos_embedding[:, 1::2] = torch.cos(pos * den)\n",
        "        pos_embedding = pos_embedding.unsqueeze(-2)\n",
        "\n",
        "        self.dropout = nn.Dropout(dropout)\n",
        "        self.register_buffer('pos_embedding', pos_embedding)\n",
        "\n",
        "    def forward(self, token_embedding: Tensor):\n",
        "        return self.dropout(token_embedding + self.pos_embedding[:token_embedding.size(0), :])\n",
        "\n",
        "class TokenEmbedding(nn.Module):\n",
        "    def __init__(self, vocab_size: int, emb_size):\n",
        "        super(TokenEmbedding, self).__init__()\n",
        "        self.embedding = nn.Embedding(vocab_size, emb_size)\n",
        "        self.emb_size = emb_size\n",
        "\n",
        "    def forward(self, tokens: Tensor):\n",
        "        return self.embedding(tokens.long()) * math.sqrt(self.emb_size)\n",
        "\n",
        "class Seq2SeqTransformer(nn.Module):\n",
        "    def __init__(self,\n",
        "                 num_encoder_layers: int,\n",
        "                 num_decoder_layers: int,\n",
        "                 emb_size: int,\n",
        "                 nhead: int,\n",
        "                 src_vocab_size: int,\n",
        "                 tgt_vocab_size: int,\n",
        "                 dim_feedforward: int = 512,\n",
        "                 dropout: float = 0.1):\n",
        "        super(Seq2SeqTransformer, self).__init__()\n",
        "        self.transformer = Transformer(d_model=emb_size,\n",
        "                                       nhead=nhead,\n",
        "                                       num_encoder_layers=num_encoder_layers,\n",
        "                                       num_decoder_layers=num_decoder_layers,\n",
        "                                       dim_feedforward=dim_feedforward,\n",
        "                                       dropout=dropout)\n",
        "        self.generator = nn.Linear(emb_size, tgt_vocab_size)\n",
        "        self.src_tok_emb = TokenEmbedding(src_vocab_size, emb_size)\n",
        "        self.tgt_tok_emb = TokenEmbedding(tgt_vocab_size, emb_size)\n",
        "        self.positional_encoding = PositionalEncoding(\n",
        "            emb_size, dropout=dropout)\n",
        "\n",
        "    def forward(self,\n",
        "                src: Tensor,\n",
        "                trg: Tensor,\n",
        "                src_mask: Tensor,\n",
        "                tgt_mask: Tensor,\n",
        "                src_padding_mask: Tensor,\n",
        "                tgt_padding_mask: Tensor,\n",
        "                memory_key_padding_mask: Tensor):\n",
        "        src_emb = self.positional_encoding(self.src_tok_emb(src))\n",
        "        tgt_emb = self.positional_encoding(self.tgt_tok_emb(trg))\n",
        "        outs = self.transformer(src_emb, tgt_emb, src_mask, tgt_mask, None,\n",
        "                                src_padding_mask, tgt_padding_mask, memory_key_padding_mask)\n",
        "        return self.generator(outs)\n",
        "\n",
        "    def encode(self, src: Tensor, src_mask: Tensor):\n",
        "        return self.transformer.encoder(self.positional_encoding(\n",
        "                            self.src_tok_emb(src)), src_mask)\n",
        "\n",
        "    def decode(self, tgt: Tensor, memory: Tensor, tgt_mask: Tensor):\n",
        "        return self.transformer.decoder(self.positional_encoding(\n",
        "                          self.tgt_tok_emb(tgt)), memory,\n",
        "                          tgt_mask)"
      ]
    },
    {
      "cell_type": "code",
      "execution_count": 16,
      "metadata": {
        "id": "0ZN1LLtZ-okt"
      },
      "outputs": [],
      "source": [
        "def generate_square_subsequent_mask(sz):\n",
        "    mask = (torch.triu(torch.ones((sz, sz), device=DEVICE)) == 1).transpose(0, 1)\n",
        "    mask = mask.float().masked_fill(mask == 0, float('-inf')).masked_fill(mask == 1, float(0.0))\n",
        "    return mask\n",
        "\n",
        "\n",
        "def create_mask(src, tgt):\n",
        "    src_seq_len = src.shape[0]\n",
        "    tgt_seq_len = tgt.shape[0]\n",
        "\n",
        "    tgt_mask = generate_square_subsequent_mask(tgt_seq_len)\n",
        "    src_mask = torch.zeros((src_seq_len, src_seq_len),device=DEVICE).type(torch.bool)\n",
        "\n",
        "    src_padding_mask = (src == PAD_IDX).transpose(0, 1)\n",
        "    tgt_padding_mask = (tgt == PAD_IDX).transpose(0, 1)\n",
        "    return src_mask, tgt_mask, src_padding_mask, tgt_padding_mask"
      ]
    },
    {
      "cell_type": "markdown",
      "metadata": {
        "id": "jslFvhvfBbai"
      },
      "source": [
        "ar2la"
      ]
    },
    {
      "cell_type": "code",
      "execution_count": 17,
      "metadata": {
        "colab": {
          "base_uri": "https://localhost:8080/"
        },
        "id": "5zzUIShj_0C5",
        "outputId": "55cd745f-6055-4921-91b2-aa9882c90783"
      },
      "outputs": [
        {
          "name": "stdout",
          "output_type": "stream",
          "text": [
            "Loading to GPU\n"
          ]
        }
      ],
      "source": [
        "torch.manual_seed(0)\n",
        "\n",
        "SRC_VOCAB_SIZE = len(vocab_transform['arabic'])\n",
        "TGT_VOCAB_SIZE = len(vocab_transform['latin'])\n",
        "BATCH_SIZE = 128\n",
        "\n",
        "EMB_SIZE = 512\n",
        "NHEAD = 8\n",
        "FFN_HID_DIM = 512\n",
        "NUM_ENCODER_LAYERS = 3\n",
        "NUM_DECODER_LAYERS = 3\n",
        "\n",
        "transformer = Seq2SeqTransformer(NUM_ENCODER_LAYERS, NUM_DECODER_LAYERS, EMB_SIZE,\n",
        "                                 NHEAD, SRC_VOCAB_SIZE, TGT_VOCAB_SIZE, FFN_HID_DIM)\n",
        "\n",
        "xn = \"_\".join([str(x) for x in [EMB_SIZE,NHEAD,FFN_HID_DIM,NUM_ENCODER_LAYERS,NUM_DECODER_LAYERS]])\n",
        "\n",
        "xm = 'ar2la'\n",
        "MPATH = 'azeri_'+xm+xn+'.pth'\n",
        "\n",
        "# load to gpu\n",
        "if torch.cuda.is_available():\n",
        "    print('Loading to GPU')\n",
        "    device = torch.device(\"cuda\")\n",
        "    transformer.load_state_dict(torch.load(MPATH))\n",
        "    transformer.to(device)\n",
        "# load to cpu\n",
        "else:\n",
        "    print('Loading to CPU')\n",
        "    device = torch.device('cpu')\n",
        "    transformer.load_state_dict(torch.load(MPATH, map_location=device))"
      ]
    },
    {
      "cell_type": "markdown",
      "metadata": {
        "id": "ws-84v2SEIwo"
      },
      "source": [
        "la2ar"
      ]
    },
    {
      "cell_type": "code",
      "execution_count": 18,
      "metadata": {
        "colab": {
          "base_uri": "https://localhost:8080/"
        },
        "id": "wVxFgxnrBi0_",
        "outputId": "d463f2b9-5c9b-474e-bfee-4ec48b499a03"
      },
      "outputs": [
        {
          "name": "stdout",
          "output_type": "stream",
          "text": [
            "Loading to GPU\n"
          ]
        }
      ],
      "source": [
        "torch.manual_seed(0)\n",
        "\n",
        "SRC_VOCAB_SIZE = len(vocab_transform['latin'])\n",
        "TGT_VOCAB_SIZE = len(vocab_transform['arabic'])\n",
        "BATCH_SIZE = 128\n",
        "\n",
        "EMB_SIZE = 512\n",
        "NHEAD = 8\n",
        "FFN_HID_DIM = 512\n",
        "NUM_ENCODER_LAYERS = 3\n",
        "NUM_DECODER_LAYERS = 3\n",
        "\n",
        "transformer2 = Seq2SeqTransformer(NUM_ENCODER_LAYERS, NUM_DECODER_LAYERS, EMB_SIZE,\n",
        "                                 NHEAD, SRC_VOCAB_SIZE, TGT_VOCAB_SIZE, FFN_HID_DIM)\n",
        "\n",
        "xn = \"_\".join([str(x) for x in [EMB_SIZE,NHEAD,FFN_HID_DIM,NUM_ENCODER_LAYERS,NUM_DECODER_LAYERS]])\n",
        "# mistake in the file name\n",
        "xm = 'la2ar'\n",
        "\n",
        "MPATH = 'azeri_'+xm+xn+'.pth'\n",
        "\n",
        "# load to gpu\n",
        "if torch.cuda.is_available():\n",
        "    print('Loading to GPU')\n",
        "    device = torch.device(\"cuda\")\n",
        "    transformer2.load_state_dict(torch.load(MPATH))\n",
        "    transformer2.to(device)\n",
        "# load to cpu\n",
        "else:\n",
        "    print('Loading to CPU')\n",
        "    device = torch.device('cpu')\n",
        "    transformer2.load_state_dict(torch.load(MPATH, map_location=device))"
      ]
    },
    {
      "cell_type": "code",
      "execution_count": 19,
      "metadata": {
        "id": "xph0nMxF_nHV"
      },
      "outputs": [],
      "source": [
        "from torch.nn.utils.rnn import pad_sequence\n",
        "\n",
        "def sequential_transforms(*transforms):\n",
        "    def func(txt_input):\n",
        "        for transform in transforms:\n",
        "            txt_input = transform(txt_input)\n",
        "        return txt_input\n",
        "    return func\n",
        "\n",
        "def tensor_transform(token_ids: List[int]):\n",
        "    return torch.cat((torch.tensor([BOS_IDX]),\n",
        "                      torch.tensor(token_ids),\n",
        "                      torch.tensor([EOS_IDX])))\n",
        "\n",
        "text_transform = {}\n",
        "for ln in [SRC_LANGUAGE, TGT_LANGUAGE]:\n",
        "    text_transform[ln] = sequential_transforms(token_transform[ln],\n",
        "                                               vocab_transform[ln],\n",
        "                                               tensor_transform)\n",
        "\n"
      ]
    },
    {
      "cell_type": "code",
      "execution_count": 20,
      "metadata": {
        "id": "JwukVfK3qMDb"
      },
      "outputs": [],
      "source": [
        "def greedy_decode(model, src, src_mask, max_len, start_symbol):\n",
        "    src = src.to(DEVICE)\n",
        "    src_mask = src_mask.to(DEVICE)\n",
        "\n",
        "    memory = model.encode(src, src_mask)\n",
        "    ys = torch.ones(1, 1).fill_(start_symbol).type(torch.long).to(DEVICE)\n",
        "    for i in range(max_len-1):\n",
        "        memory = memory.to(DEVICE)\n",
        "        tgt_mask = (generate_square_subsequent_mask(ys.size(0))\n",
        "                    .type(torch.bool)).to(DEVICE)\n",
        "        out = model.decode(ys, memory, tgt_mask)\n",
        "        out = out.transpose(0, 1)\n",
        "        prob = model.generator(out[:, -1])\n",
        "        _, next_word = torch.max(prob, dim=1)\n",
        "        next_word = next_word.item()\n",
        "\n",
        "        ys = torch.cat([ys,\n",
        "                        torch.ones(1, 1).type_as(src.data).fill_(next_word)], dim=0)\n",
        "        if next_word == EOS_IDX:\n",
        "            break\n",
        "    return ys\n",
        "\n",
        "\n",
        "def transliterate(model: torch.nn.Module, src_sentence: str):\n",
        "    model.eval()\n",
        "    src = text_transform['arabic'](src_sentence).view(-1, 1)\n",
        "    num_tokens = src.shape[0]\n",
        "    src_mask = (torch.zeros(num_tokens, num_tokens)).type(torch.bool)\n",
        "    tgt_tokens = greedy_decode(\n",
        "        model,  src, src_mask, max_len=num_tokens + 5, start_symbol=BOS_IDX).flatten()\n",
        "    return \" \".join(vocab_transform['latin'].lookup_tokens(list(tgt_tokens.cpu().numpy()))).replace(\"<bos>\", \"\").replace(\"<eos>\", \"\")\n",
        "\n",
        "def transliterate2(model: torch.nn.Module, src_sentence: str):\n",
        "    model.eval()\n",
        "    src = text_transform['latin'](src_sentence).view(-1, 1)\n",
        "    num_tokens = src.shape[0]\n",
        "    src_mask = (torch.zeros(num_tokens, num_tokens)).type(torch.bool)\n",
        "    tgt_tokens = greedy_decode(\n",
        "        model,  src, src_mask, max_len=num_tokens + 5, start_symbol=BOS_IDX).flatten()\n",
        "    return \" \".join(vocab_transform['arabic'].lookup_tokens(list(tgt_tokens.cpu().numpy()))).replace(\"<bos>\", \"\").replace(\"<eos>\", \"\")"
      ]
    },
    {
      "cell_type": "code",
      "execution_count": 21,
      "metadata": {
        "id": "ahYI3gKIrcil"
      },
      "outputs": [],
      "source": [
        "def prep(inx,mx,mo,tfx):\n",
        "    vc= vocab_transform[mx]\n",
        "    allowed = vc.get_itos()\n",
        "\n",
        "    inx = inx.split(' ')\n",
        "    #[]\n",
        "\n",
        "    out = list()\n",
        "    for word in inx:\n",
        "        z = list()\n",
        "        z.append([[],'y'])\n",
        "        for character_ in word:\n",
        "            if character_ in allowed:\n",
        "\n",
        "                # last one was was also allowed\n",
        "                if z[-1][1] =='y':\n",
        "                    z[-1][0].append(character_)\n",
        "                # last one was not allowed\n",
        "                else:\n",
        "                    z.append([[character_],'y'])\n",
        "            else:\n",
        "                # last one was also not allowed\n",
        "                if z[-1][1] == 'n':\n",
        "                    z[-1][0].append(character_)\n",
        "                # last one was allowed\n",
        "                else:\n",
        "                    z.append([[character_],'n'])\n",
        "        output = []\n",
        "        for sub in z:\n",
        "            if sub[1]=='y':\n",
        "                if sub[0]:\n",
        "                    output.append(\"\".join(mo(tfx, ''.join(sub[0])).split()))\n",
        "            else:\n",
        "                output.append(\"\".join(sub[0]))\n",
        "        output = \" \".join(output)\n",
        "        out.append(output)\n",
        "    v=(\" \".join(out))\n",
        "    v= v.replace('  ',' ')\n",
        "    return v\n",
        "\n",
        "def ar2la(inp):\n",
        "    p = prep(inp,'arabic',transliterate,transformer)\n",
        "    return p\n",
        "\n",
        "def la2ar(inp):\n",
        "    p = prep(inp,'latin',transliterate2,transformer2)\n",
        "    return p\n",
        "\n",
        "persian_to_latin = ar2la\n",
        "latin_to_persian = la2ar\n"
      ]
    },
    {
      "cell_type": "code",
      "execution_count": 22,
      "metadata": {
        "colab": {
          "base_uri": "https://localhost:8080/",
          "height": 36
        },
        "id": "dI42Y0Ao9F_3",
        "outputId": "63f7e01c-b574-4147-899a-99ea9a69fc6a"
      },
      "outputs": [
        {
          "data": {
            "text/plain": [
              "'xəbərlər var'"
            ]
          },
          "execution_count": 22,
          "metadata": {},
          "output_type": "execute_result"
        }
      ],
      "source": [
        "persian_to_latin('خبرلر وار')"
      ]
    },
    {
      "cell_type": "code",
      "execution_count": 23,
      "metadata": {
        "colab": {
          "base_uri": "https://localhost:8080/",
          "height": 36
        },
        "id": "X71dXCXSDQHL",
        "outputId": "0f34f011-f661-429d-8206-79fc096124c2"
      },
      "outputs": [
        {
          "data": {
            "text/plain": [
              "'تۆرکۆن دیلی تک سئوگیلی ایستکلی دیل اۏلماز'"
            ]
          },
          "execution_count": 23,
          "metadata": {},
          "output_type": "execute_result"
        }
      ],
      "source": [
        "latin_to_persian('türkün dili tək sevgili istəkli dil olmaz')"
      ]
    },
    {
      "cell_type": "code",
      "execution_count": null,
      "metadata": {
        "id": "iS3xRLnwsRqT"
      },
      "outputs": [],
      "source": []
    }
  ],
  "metadata": {
    "colab": {
      "provenance": []
    },
    "kernelspec": {
      "display_name": "Python 3",
      "name": "python3"
    },
    "language_info": {
      "codemirror_mode": {
        "name": "ipython",
        "version": 3
      },
      "file_extension": ".py",
      "mimetype": "text/x-python",
      "name": "python",
      "nbconvert_exporter": "python",
      "pygments_lexer": "ipython3",
      "version": "3.10.11"
    }
  },
  "nbformat": 4,
  "nbformat_minor": 0
}
